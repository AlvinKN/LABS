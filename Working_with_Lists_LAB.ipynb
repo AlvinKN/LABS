{
  "cells": [
    {
      "cell_type": "markdown",
      "metadata": {
        "id": "view-in-github",
        "colab_type": "text"
      },
      "source": [
        "<a href=\"https://colab.research.google.com/github/AlvinKN/LABS/blob/main/Working_with_Lists_LAB.ipynb\" target=\"_parent\"><img src=\"https://colab.research.google.com/assets/colab-badge.svg\" alt=\"Open In Colab\"/></a>"
      ]
    },
    {
      "cell_type": "markdown",
      "metadata": {
        "id": "f_9pwJQiP4hI"
      },
      "source": [
        "# Working with Lists - Lab\n",
        "\n",
        "## Introduction\n",
        "\n",
        "Now that we have a sense of how to read from a list and alter a list in Python, let's put this knowledge to use.\n",
        "\n",
        "## Objectives\n",
        "\n",
        "You will be able to:\n",
        "\n",
        "* Use indexing to access elements in a list\n",
        "* Apply list methods to make changes to a list\n",
        "* Change elements of a list\n",
        "\n",
        "## Instructions\n",
        "\n",
        "In the previous lesson, we had a list of top travel cities."
      ]
    },
    {
      "cell_type": "code",
      "execution_count": null,
      "metadata": {
        "id": "xmE4scrvP4hJ"
      },
      "outputs": [],
      "source": [
        "top_travel_cities = ['Solta', 'Greenville', 'Buenos Aires', 'Los Cabos', 'Walla Walla Valley', 'Marakesh', 'Albuquerque', 'Archipelago Sea', 'Iguazu Falls', 'Salina Island', 'Toronto', 'Pyeongchang']"
      ]
    },
    {
      "cell_type": "markdown",
      "metadata": {
        "id": "OpyfrZ2eP4hK"
      },
      "source": [
        "> Remember to press shift+enter to run each gray block of code (including the one above).  Otherwise, the variables will not be defined.\n",
        "\n",
        "In this lab we will work with a list of associated countries corresponding to each of the top travel cities."
      ]
    },
    {
      "cell_type": "code",
      "execution_count": null,
      "metadata": {
        "id": "RT7XfuC6P4hK"
      },
      "outputs": [],
      "source": [
        "countries = ['Croatia',\n",
        " 'USA',\n",
        " 'Argentina',\n",
        " 'Mexico',\n",
        " 'USA',\n",
        " 'Morocco',\n",
        " 'New Mexico',\n",
        " 'Finland',\n",
        " 'Argentina',\n",
        " 'Italy',\n",
        " 'Canada',\n",
        " 'South Korea']"
      ]
    },
    {
      "cell_type": "markdown",
      "metadata": {
        "id": "DCqWPSyLP4hK"
      },
      "source": [
        "> Run the code in the cell above by pressing shift + enter.\n",
        "\n",
        "The list of countries associated with each city has been assigned to the variable `countries`.  Now we will work with this list.\n",
        "\n",
        "## Accessing elements from lists\n",
        "\n",
        "First, set the variable `italy` to be equal to the third to last element from `countries`.  \n",
        ">**Note:** If you see an **error** stating that `countries` is undefined, it means you must press shift+enter in the second gray box where `countries` variable is assigned."
      ]
    },
    {
      "cell_type": "code",
      "execution_count": null,
      "metadata": {
        "id": "E3_vfvf-P4hK"
      },
      "outputs": [],
      "source": [
        "italy = None # 'Italy'\n",
        "italy"
      ]
    },
    {
      "cell_type": "markdown",
      "metadata": {
        "id": "4mTTLBWgP4hK"
      },
      "source": [
        "> We assigned the varible `italy` equal to `None`, but you should change the word `None` to code that uses the `countries` list to assign `italy` to `'Italy'`.  We wrote the variable `italy` a second time, so that you can see what it contains when you run the code block.  Currently, nothing is displayed below as it equals `None`, but when it's correct it will match the string which is commented out, `'Italy'`."
      ]
    },
    {
      "cell_type": "code",
      "execution_count": null,
      "metadata": {
        "id": "J050zEnXP4hK"
      },
      "outputs": [],
      "source": [
        "italy # 'Italy'"
      ]
    },
    {
      "cell_type": "code",
      "source": [
        "italy = countries[-3]\n",
        "italy"
      ],
      "metadata": {
        "colab": {
          "base_uri": "https://localhost:8080/",
          "height": 36
        },
        "id": "U5Lf6VMoMuH4",
        "outputId": "eb002bff-d39a-4b6d-fdf6-d823b9db2785"
      },
      "execution_count": null,
      "outputs": [
        {
          "output_type": "execute_result",
          "data": {
            "text/plain": [
              "'Italy'"
            ],
            "application/vnd.google.colaboratory.intrinsic+json": {
              "type": "string"
            }
          },
          "metadata": {},
          "execution_count": 5
        }
      ]
    },
    {
      "cell_type": "markdown",
      "metadata": {
        "id": "hyXvBuaCP4hK"
      },
      "source": [
        "Now access the fourth element and set it equal to the variable `mexico`."
      ]
    },
    {
      "cell_type": "code",
      "execution_count": null,
      "metadata": {
        "id": "LiVVN9GdP4hK"
      },
      "outputs": [],
      "source": [
        "mexico = None\n",
        "mexico"
      ]
    },
    {
      "cell_type": "code",
      "source": [
        "mexico = countries[3]\n",
        "mexico"
      ],
      "metadata": {
        "colab": {
          "base_uri": "https://localhost:8080/",
          "height": 36
        },
        "id": "YPOdTNuoN3L3",
        "outputId": "71faf153-ad3a-48aa-98cf-ffd6a363bc91"
      },
      "execution_count": null,
      "outputs": [
        {
          "output_type": "execute_result",
          "data": {
            "text/plain": [
              "'Mexico'"
            ],
            "application/vnd.google.colaboratory.intrinsic+json": {
              "type": "string"
            }
          },
          "metadata": {},
          "execution_count": 6
        }
      ]
    },
    {
      "cell_type": "markdown",
      "metadata": {
        "id": "-P1bhJTVP4hL"
      },
      "source": [
        "Notice that the second through fifth elements are all in a row and all in the Western Hemisphere.  Assign that subset of elements to a variable called `kindof_neighbors`."
      ]
    },
    {
      "cell_type": "code",
      "execution_count": null,
      "metadata": {
        "id": "-jNuz1JiP4hL"
      },
      "outputs": [],
      "source": [
        "kindof_neighbors = None\n",
        "kindof_neighbors"
      ]
    },
    {
      "cell_type": "code",
      "source": [
        "kindof_neighbors = countries[1:5]\n",
        "kindof_neighbors"
      ],
      "metadata": {
        "colab": {
          "base_uri": "https://localhost:8080/"
        },
        "id": "fd1iTR6GN_KB",
        "outputId": "aefff072-e560-46ea-8890-ddfeda453d5d"
      },
      "execution_count": null,
      "outputs": [
        {
          "output_type": "execute_result",
          "data": {
            "text/plain": [
              "['USA', 'Argentina', 'Mexico', 'USA']"
            ]
          },
          "metadata": {},
          "execution_count": 7
        }
      ]
    },
    {
      "cell_type": "markdown",
      "metadata": {
        "id": "Wqw4QOf6P4hL"
      },
      "source": [
        "## Changing Elements\n",
        "\n",
        "Ok, now let's add a couple of countries onto this list.  At the end of the list, add the country 'Malta'."
      ]
    },
    {
      "cell_type": "code",
      "execution_count": null,
      "metadata": {
        "id": "-nX83xPqP4hL"
      },
      "outputs": [],
      "source": [
        "None # add code here"
      ]
    },
    {
      "cell_type": "code",
      "source": [
        "countries.append('Malta')\n",
        "countries"
      ],
      "metadata": {
        "colab": {
          "base_uri": "https://localhost:8080/"
        },
        "id": "g6zd4-kgOFD7",
        "outputId": "11f2b1d0-e2a9-4294-c1b9-8abf7bc64b10"
      },
      "execution_count": null,
      "outputs": [
        {
          "output_type": "execute_result",
          "data": {
            "text/plain": [
              "['Croatia',\n",
              " 'USA',\n",
              " 'Argentina',\n",
              " 'Mexico',\n",
              " 'USA',\n",
              " 'Morocco',\n",
              " 'New Mexico',\n",
              " 'Finland',\n",
              " 'Argentina',\n",
              " 'Italy',\n",
              " 'Canada',\n",
              " 'South Korea',\n",
              " 'Malta']"
            ]
          },
          "metadata": {},
          "execution_count": 9
        }
      ]
    },
    {
      "cell_type": "markdown",
      "metadata": {
        "id": "ArZZoMtpP4hL"
      },
      "source": [
        "Then add the country 'Thailand'."
      ]
    },
    {
      "cell_type": "code",
      "execution_count": null,
      "metadata": {
        "id": "hwGUnQGLP4hL"
      },
      "outputs": [],
      "source": [
        "None # add code here"
      ]
    },
    {
      "cell_type": "code",
      "source": [
        "countries.append('Thailand')\n",
        "countries"
      ],
      "metadata": {
        "colab": {
          "base_uri": "https://localhost:8080/"
        },
        "id": "u-aNTAoHOhsB",
        "outputId": "9c5305df-3eb4-42fb-f5c3-aa620f7da359"
      },
      "execution_count": null,
      "outputs": [
        {
          "output_type": "execute_result",
          "data": {
            "text/plain": [
              "['Croatia',\n",
              " 'USA',\n",
              " 'Argentina',\n",
              " 'Mexico',\n",
              " 'USA',\n",
              " 'Morocco',\n",
              " 'New Mexico',\n",
              " 'Finland',\n",
              " 'Argentina',\n",
              " 'Italy',\n",
              " 'Canada',\n",
              " 'South Korea',\n",
              " 'Malta',\n",
              " 'Thailand']"
            ]
          },
          "metadata": {},
          "execution_count": 10
        }
      ]
    },
    {
      "cell_type": "markdown",
      "metadata": {
        "id": "oyj2nPhKP4hL"
      },
      "source": [
        "Now your list of countries should look like the following."
      ]
    },
    {
      "cell_type": "code",
      "execution_count": null,
      "metadata": {
        "id": "Q1BM6ruCP4hL"
      },
      "outputs": [],
      "source": [
        "countries\n",
        "# ['Croatia', 'USA', 'Argentina', 'Mexico', 'USA', 'Morocco', 'New Mexico', 'Finland',\n",
        "# 'Argentina', 'Italy',  'Canada', 'South Korea',  'Malta',  'Thailand']"
      ]
    },
    {
      "cell_type": "code",
      "source": [
        "countries"
      ],
      "metadata": {
        "colab": {
          "base_uri": "https://localhost:8080/"
        },
        "id": "PeWYQPU6On9P",
        "outputId": "eab09993-0a06-4ca6-9e37-d854b9e98fb6"
      },
      "execution_count": null,
      "outputs": [
        {
          "output_type": "execute_result",
          "data": {
            "text/plain": [
              "['Croatia',\n",
              " 'USA',\n",
              " 'Argentina',\n",
              " 'Mexico',\n",
              " 'USA',\n",
              " 'Morocco',\n",
              " 'New Mexico',\n",
              " 'Finland',\n",
              " 'Argentina',\n",
              " 'Italy',\n",
              " 'Canada',\n",
              " 'South Korea',\n",
              " 'Malta',\n",
              " 'Thailand']"
            ]
          },
          "metadata": {},
          "execution_count": 11
        }
      ]
    },
    {
      "cell_type": "markdown",
      "metadata": {
        "id": "kP-W1p5LP4hL"
      },
      "source": [
        "You may have noticed that \"New Mexico\" is included in our list of countries.  That doesn't seem right.  Let's change 'New Mexico' to 'USA'."
      ]
    },
    {
      "cell_type": "code",
      "execution_count": null,
      "metadata": {
        "id": "WSI0_Q_hP4hL"
      },
      "outputs": [],
      "source": [
        "None # add code here"
      ]
    },
    {
      "cell_type": "code",
      "source": [
        "countries[6] = 'USA'\n",
        "countries"
      ],
      "metadata": {
        "colab": {
          "base_uri": "https://localhost:8080/"
        },
        "id": "X2Zce8KDO5FQ",
        "outputId": "cb25a280-a7df-4a58-d562-43f410c72741"
      },
      "execution_count": null,
      "outputs": [
        {
          "output_type": "execute_result",
          "data": {
            "text/plain": [
              "['Croatia',\n",
              " 'USA',\n",
              " 'Argentina',\n",
              " 'Mexico',\n",
              " 'USA',\n",
              " 'Morocco',\n",
              " 'USA',\n",
              " 'Finland',\n",
              " 'Argentina',\n",
              " 'Italy',\n",
              " 'Canada',\n",
              " 'South Korea',\n",
              " 'Malta',\n",
              " 'Thailand']"
            ]
          },
          "metadata": {},
          "execution_count": 13
        }
      ]
    },
    {
      "cell_type": "code",
      "execution_count": null,
      "metadata": {
        "id": "BMkft5a6P4hL"
      },
      "outputs": [],
      "source": [
        "countries\n",
        "# ['Croatia', 'USA', 'Argentina', 'Mexico', 'USA', 'Morocco', 'USA', 'Finland',\n",
        "# 'Argentina', 'Italy',  'Canada', 'South Korea',  'Malta',  'Thailand']"
      ]
    },
    {
      "cell_type": "markdown",
      "metadata": {
        "id": "c-aP3Xt8P4hL"
      },
      "source": [
        "Finally, let's remove Thailand from the list.  No good reason, we're acting on whimsy."
      ]
    },
    {
      "cell_type": "code",
      "execution_count": null,
      "metadata": {
        "id": "Mly2j0WzP4hL"
      },
      "outputs": [],
      "source": [
        "countries.pop() # 'Thailand'"
      ]
    },
    {
      "cell_type": "code",
      "source": [
        "countries.pop(-1)\n",
        "countries"
      ],
      "metadata": {
        "colab": {
          "base_uri": "https://localhost:8080/"
        },
        "id": "fYTye93EPJP1",
        "outputId": "7251cd53-8f77-4609-d1a1-cc47c62493ea"
      },
      "execution_count": null,
      "outputs": [
        {
          "output_type": "execute_result",
          "data": {
            "text/plain": [
              "['Croatia',\n",
              " 'USA',\n",
              " 'Argentina',\n",
              " 'Mexico',\n",
              " 'USA',\n",
              " 'Morocco',\n",
              " 'USA',\n",
              " 'Finland',\n",
              " 'Argentina',\n",
              " 'Italy',\n",
              " 'Canada',\n",
              " 'South Korea',\n",
              " 'Malta']"
            ]
          },
          "metadata": {},
          "execution_count": 17
        }
      ]
    },
    {
      "cell_type": "code",
      "execution_count": null,
      "metadata": {
        "id": "5RGqpu7yP4hL",
        "colab": {
          "base_uri": "https://localhost:8080/"
        },
        "outputId": "c1495fd5-85be-44bd-d29b-c7fccfce156b"
      },
      "outputs": [
        {
          "output_type": "stream",
          "name": "stdout",
          "text": [
            "['Croatia', 'USA', 'Argentina', 'Mexico', 'USA', 'Morocco', 'USA', 'Finland', 'Argentina', 'Italy', 'Canada', 'South Korea', 'Malta']\n"
          ]
        }
      ],
      "source": [
        "print(countries)"
      ]
    },
    {
      "cell_type": "markdown",
      "metadata": {
        "id": "6zkWX_SRP4hL"
      },
      "source": [
        "## Exploring Lists with Methods\n",
        "\n",
        "Ok, now we notice that some countries are mentioned more than once.  Let's see how many repeat countries are on this list.  \n",
        "\n",
        "First, use the `set` and `list` functions to return a unique list of countries.  Set this list equal to the variable `unique_countries`."
      ]
    },
    {
      "cell_type": "code",
      "execution_count": null,
      "metadata": {
        "id": "sr3gUUyQP4hL"
      },
      "outputs": [],
      "source": [
        "unique_countries = None"
      ]
    },
    {
      "cell_type": "code",
      "execution_count": null,
      "metadata": {
        "id": "MkYdz24KP4hL"
      },
      "outputs": [],
      "source": [
        "unique_countries # ['Canada', 'Italy', 'USA', 'Mexico', 'Finland',\n",
        "#'Malta', 'Morocco', 'Croatia', 'Argentina', 'South Korea']"
      ]
    },
    {
      "cell_type": "code",
      "source": [
        "unique_countries = list(set(countries))\n",
        "unique_countries"
      ],
      "metadata": {
        "colab": {
          "base_uri": "https://localhost:8080/"
        },
        "id": "2hoI_2JXQEAw",
        "outputId": "2f0796a1-4752-422a-d872-36c518e1b3fe"
      },
      "execution_count": null,
      "outputs": [
        {
          "output_type": "execute_result",
          "data": {
            "text/plain": [
              "['Croatia',\n",
              " 'USA',\n",
              " 'Malta',\n",
              " 'Morocco',\n",
              " 'South Korea',\n",
              " 'Finland',\n",
              " 'Argentina',\n",
              " 'Canada',\n",
              " 'Italy',\n",
              " 'Mexico']"
            ]
          },
          "metadata": {},
          "execution_count": 20
        }
      ]
    },
    {
      "cell_type": "markdown",
      "metadata": {
        "id": "wPQxkwFfP4hL"
      },
      "source": [
        "Now the number of repeat countries should be the number of countries minus the number of unique countries.  So use the `len` function on both `unique_countries` and `countries` to calculate this and assign the result to the variable `num_of_repeats`."
      ]
    },
    {
      "cell_type": "code",
      "execution_count": null,
      "metadata": {
        "id": "DS0JuyerP4hM"
      },
      "outputs": [],
      "source": [
        "num_of_repeats = None\n",
        "num_of_repeats # 3"
      ]
    },
    {
      "cell_type": "code",
      "source": [
        "num_of_repeats= len(countries) - len(unique_countries)\n",
        "num_of_repeats"
      ],
      "metadata": {
        "colab": {
          "base_uri": "https://localhost:8080/"
        },
        "id": "recckBKHQXaQ",
        "outputId": "59dd251b-6bd4-4588-d32f-49eca6733666"
      },
      "execution_count": null,
      "outputs": [
        {
          "output_type": "execute_result",
          "data": {
            "text/plain": [
              "3"
            ]
          },
          "metadata": {},
          "execution_count": 21
        }
      ]
    },
    {
      "cell_type": "markdown",
      "metadata": {
        "id": "IVxQqSO5P4hM"
      },
      "source": [
        "## Summary\n",
        "\n",
        "In this lesson, we practiced working with lists in Python. We saw how to index lists to select specific elements, how to use list methods to change lists, and how to add and remove elements from a list. Finally, we saw how to use a set to calculate the number of unique elements in the list."
      ]
    }
  ],
  "metadata": {
    "kernelspec": {
      "display_name": "Python (learn-env)",
      "language": "python",
      "name": "learn-env"
    },
    "language_info": {
      "codemirror_mode": {
        "name": "ipython",
        "version": 3
      },
      "file_extension": ".py",
      "mimetype": "text/x-python",
      "name": "python",
      "nbconvert_exporter": "python",
      "pygments_lexer": "ipython3",
      "version": "3.8.5"
    },
    "colab": {
      "provenance": [],
      "name": "Working with Lists - LAB.ipynb",
      "include_colab_link": true
    }
  },
  "nbformat": 4,
  "nbformat_minor": 0
}