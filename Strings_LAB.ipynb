{
  "cells": [
    {
      "cell_type": "markdown",
      "metadata": {
        "id": "view-in-github",
        "colab_type": "text"
      },
      "source": [
        "<a href=\"https://colab.research.google.com/github/AlvinKN/LABS/blob/main/Strings_LAB.ipynb\" target=\"_parent\"><img src=\"https://colab.research.google.com/assets/colab-badge.svg\" alt=\"Open In Colab\"/></a>"
      ]
    },
    {
      "cell_type": "markdown",
      "metadata": {
        "id": "H36ATgfMEDl2"
      },
      "source": [
        "# Introduction to Variables: Strings - Lab"
      ]
    },
    {
      "cell_type": "markdown",
      "metadata": {
        "id": "_qj0nIUpEDl5"
      },
      "source": [
        "## Introduction\n",
        "Okay, we have learned about our first data type, the String! Now let's do a little practice with strings. We'll use the methods and functions we introduced in the previous lesson to flex our string-manipulating muscles!"
      ]
    },
    {
      "cell_type": "markdown",
      "metadata": {
        "id": "FADQoUIvEDl6"
      },
      "source": [
        "## Objectives\n",
        "\n",
        "You will be able to:\n",
        "\n",
        "* Apply string methods to make changes to a string\n",
        "* Use concatenation to combine strings"
      ]
    },
    {
      "cell_type": "markdown",
      "metadata": {
        "id": "gjFtLK_NEDl6"
      },
      "source": [
        "## Instructions\n",
        "\n",
        "Follow the steps below to manipulate the strings and assign the values to the variables below.\n",
        "\n",
        "**1.** Below, we have a sentence whose cases are all over the place. Let's normalize the cases and make everything lower case except the first letter in the sentence. **hint:** *there is a string method that does this*"
      ]
    },
    {
      "cell_type": "code",
      "execution_count": 1,
      "metadata": {
        "id": "XwzEwZxZEDl6",
        "colab": {
          "base_uri": "https://localhost:8080/",
          "height": 36
        },
        "outputId": "b1406dba-f277-4b92-cec4-3d5fd4771236"
      },
      "outputs": [
        {
          "output_type": "execute_result",
          "data": {
            "text/plain": [
              "'woW WE LOVE cOdInG and strINGS!'"
            ],
            "application/vnd.google.colaboratory.intrinsic+json": {
              "type": "string"
            }
          },
          "metadata": {},
          "execution_count": 1
        }
      ],
      "source": [
        "sentence = \"woW WE LOVE cOdInG and strINGS!\"\n",
        "sentence"
      ]
    },
    {
      "cell_type": "code",
      "source": [
        "sentence= \"woW WE LOVE cOdInG and strINGS!\"\n",
        "normalized_sentence=sentence.capitalize()\n",
        "print(normalized_sentence)"
      ],
      "metadata": {
        "colab": {
          "base_uri": "https://localhost:8080/"
        },
        "id": "6o_Pe4bcamui",
        "outputId": "31fa3d23-4852-48bd-bae0-cd8361a8174b"
      },
      "execution_count": 7,
      "outputs": [
        {
          "output_type": "stream",
          "name": "stdout",
          "text": [
            "Wow we love coding and strings!\n"
          ]
        }
      ]
    },
    {
      "cell_type": "markdown",
      "metadata": {
        "id": "Zh6jdxvOEDl8"
      },
      "source": [
        "**2.** Next, we have our Flatiron mantra, but it's not in title case like it should be! Let's fix that and use another string method that makes all strings first letter capitalized."
      ]
    },
    {
      "cell_type": "code",
      "execution_count": 4,
      "metadata": {
        "id": "hz7E56Z1EDl8",
        "colab": {
          "base_uri": "https://localhost:8080/",
          "height": 36
        },
        "outputId": "a35de780-f859-485a-90ac-59d4d5b0a804"
      },
      "outputs": [
        {
          "output_type": "execute_result",
          "data": {
            "text/plain": [
              "'learn. love. code.'"
            ],
            "application/vnd.google.colaboratory.intrinsic+json": {
              "type": "string"
            }
          },
          "metadata": {},
          "execution_count": 4
        }
      ],
      "source": [
        "flatiron_mantra = \"learn. love. code.\"\n",
        "flatiron_mantra"
      ]
    },
    {
      "cell_type": "code",
      "source": [
        "flatiron_mantra = \"learn. love. code.\"\n",
        "title_cased=flatiron_mantra.title()\n",
        "print(title_cased)"
      ],
      "metadata": {
        "colab": {
          "base_uri": "https://localhost:8080/"
        },
        "id": "31ulDnDpbPkv",
        "outputId": "11aa7819-47bd-47d7-db59-37f57a34c693"
      },
      "execution_count": 8,
      "outputs": [
        {
          "output_type": "stream",
          "name": "stdout",
          "text": [
            "Learn. Love. Code.\n"
          ]
        }
      ]
    },
    {
      "cell_type": "markdown",
      "metadata": {
        "id": "at_MCOrtEDl9"
      },
      "source": [
        "**3.** The next thing we want to do is practice turning other data types into strings. Below, we have a number `1234`, which happens to be our street number in our address, which is a string. So, let's turn the number into a string so we can eventually add it to our address. The process of linking different strings together is called **concatenation**."
      ]
    },
    {
      "cell_type": "code",
      "execution_count": 9,
      "metadata": {
        "id": "-_Ytb9Q5EDl9",
        "colab": {
          "base_uri": "https://localhost:8080/"
        },
        "outputId": "2d3e2eb5-e9cb-4977-9c25-633370ceba71"
      },
      "outputs": [
        {
          "output_type": "execute_result",
          "data": {
            "text/plain": [
              "1234"
            ]
          },
          "metadata": {},
          "execution_count": 9
        }
      ],
      "source": [
        "num_to_string = 1234\n",
        "num_to_string"
      ]
    },
    {
      "cell_type": "code",
      "source": [
        "num_to_string=1234\n",
        "num_to_string=str(num_to_string)\n",
        "print(num_to_string)"
      ],
      "metadata": {
        "colab": {
          "base_uri": "https://localhost:8080/"
        },
        "id": "gagaGg8xeSc8",
        "outputId": "e1e9cccd-01c3-460d-cafc-6497b519788b"
      },
      "execution_count": 15,
      "outputs": [
        {
          "output_type": "stream",
          "name": "stdout",
          "text": [
            "1234\n"
          ]
        }
      ]
    },
    {
      "cell_type": "markdown",
      "metadata": {
        "id": "xN0RQNxAEDl9"
      },
      "source": [
        "**4.** Let's take the `num_to_string` and add it to the beginning of our street address below. We need to concatenate the variable to the beginning of our string so that we have our full address all in one string and assigned to the variable `full_address`. **hint:** `None` *is a placeholder in the below code for you to edit*"
      ]
    },
    {
      "cell_type": "code",
      "source": [
        "full_address = None + \" Abc street, Hometown USA\"\n",
        "full_address"
      ],
      "metadata": {
        "id": "2OceQPnZgl5o"
      },
      "execution_count": null,
      "outputs": []
    },
    {
      "cell_type": "code",
      "source": [
        "full_address = num_to_string + \" Abc street, Hometown USA\"\n",
        "full_address"
      ],
      "metadata": {
        "colab": {
          "base_uri": "https://localhost:8080/",
          "height": 36
        },
        "id": "3pVKGbaJgrGs",
        "outputId": "e3ffb748-f3b7-4554-9e1d-578a64910d0b"
      },
      "execution_count": 16,
      "outputs": [
        {
          "output_type": "execute_result",
          "data": {
            "text/plain": [
              "'1234 Abc street, Hometown USA'"
            ],
            "application/vnd.google.colaboratory.intrinsic+json": {
              "type": "string"
            }
          },
          "metadata": {},
          "execution_count": 16
        }
      ]
    },
    {
      "cell_type": "markdown",
      "metadata": {
        "id": "-bYd6yXDEDl-"
      },
      "source": [
        "**5.** Finally, let's replace some of the characters in a string. Let's say Bart is upset with his family and wants to be adopted by the Flanders family. How would you replace his last name?\n",
        "\n",
        "**Hint:** We did not directly cover this method in the lesson. Check out the string helper docstring for a list of available methods."
      ]
    },
    {
      "cell_type": "code",
      "execution_count": null,
      "metadata": {
        "id": "1mnuGEvbEDl-"
      },
      "outputs": [],
      "source": [
        "help(str)"
      ]
    },
    {
      "cell_type": "code",
      "execution_count": null,
      "metadata": {
        "id": "5W8NQXbbEDl-"
      },
      "outputs": [],
      "source": [
        "name = \"Bart Simpson\"\n",
        "name = #Your code here; update the variable name"
      ]
    },
    {
      "cell_type": "code",
      "source": [
        "name = \"Bart Simpson\"\n",
        "new_name = name.replace(\"Simpson\",\"Flanders\")\n",
        "print(new_name)"
      ],
      "metadata": {
        "colab": {
          "base_uri": "https://localhost:8080/"
        },
        "id": "Saat0g_JjDk3",
        "outputId": "1d59c068-a67f-4c35-898b-1e46d0558f2c"
      },
      "execution_count": 20,
      "outputs": [
        {
          "output_type": "stream",
          "name": "stdout",
          "text": [
            "Bart Flanders\n"
          ]
        }
      ]
    },
    {
      "cell_type": "markdown",
      "metadata": {
        "id": "skYdBoa1EDl-"
      },
      "source": [
        "## Summary\n",
        "Great work! In this lab we practiced our skills with strings. We can now manipulate, coerce, and concatenate strings. Remember if there are any things you can't remember or want to discover about code that isn't mentioned in this material, googling is always a great practice!"
      ]
    }
  ],
  "metadata": {
    "kernelspec": {
      "display_name": "Python (learn-env)",
      "language": "python",
      "name": "learn-env"
    },
    "language_info": {
      "codemirror_mode": {
        "name": "ipython",
        "version": 3
      },
      "file_extension": ".py",
      "mimetype": "text/x-python",
      "name": "python",
      "nbconvert_exporter": "python",
      "pygments_lexer": "ipython3",
      "version": "3.8.5"
    },
    "colab": {
      "provenance": [],
      "name": "Strings_LAB.ipynb",
      "include_colab_link": true
    }
  },
  "nbformat": 4,
  "nbformat_minor": 0
}